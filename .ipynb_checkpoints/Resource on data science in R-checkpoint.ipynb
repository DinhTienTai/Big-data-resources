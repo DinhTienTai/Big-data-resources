{
 "cells": [
  {
   "cell_type": "markdown",
   "metadata": {},
   "source": [
    "## Books:\n",
    "- An Introduction to Statistical Learning: With Applications in R: a very good start, especially to those from statistic\n",
    "\n",
    "Download the book and data at : http://www-bcf.usc.edu/~gareth/ISL/\n",
    "\n",
    "Corresponding video lectures at Stanford's lagunita:\n",
    "\n",
    "https://lagunita.stanford.edu/courses/HumanitiesSciences/StatLearning/Winter2016/about\n",
    "\n",
    "- The Elements of Statistical Learning\n",
    "\n",
    "Download books, data, ... at https://web.stanford.edu/~hastie/Papers/ESLII.pdf\n",
    "\n",
    "- Deep Learning with R by François Chollet with J. J. Allaire:\n",
    "\n",
    "View the book online at: https://www.manning.com/books/deep-learning-with-r\n"
   ]
  },
  {
   "cell_type": "markdown",
   "metadata": {},
   "source": [
    "## Video"
   ]
  },
  {
   "cell_type": "markdown",
   "metadata": {},
   "source": [
    "- Summer courses in Big Data, Statistical Genetics,Modeling in Infectious Diseases, and Clinical Research in University of Washington:\n",
    "https://www.biostat.washington.edu/suminst/archives"
   ]
  },
  {
   "cell_type": "code",
   "execution_count": null,
   "metadata": {},
   "outputs": [],
   "source": []
  }
 ],
 "metadata": {
  "kernelspec": {
   "display_name": "Python 2",
   "language": "python",
   "name": "python2"
  },
  "language_info": {
   "codemirror_mode": {
    "name": "ipython",
    "version": 2
   },
   "file_extension": ".py",
   "mimetype": "text/x-python",
   "name": "python",
   "nbconvert_exporter": "python",
   "pygments_lexer": "ipython2",
   "version": "2.7.14"
  }
 },
 "nbformat": 4,
 "nbformat_minor": 2
}
