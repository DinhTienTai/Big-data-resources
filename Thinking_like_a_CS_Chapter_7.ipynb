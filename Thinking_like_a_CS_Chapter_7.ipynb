{
  "nbformat": 4,
  "nbformat_minor": 0,
  "metadata": {
    "colab": {
      "name": "Thinking like a CS_Chapter 7.ipynb",
      "version": "0.3.2",
      "provenance": [],
      "collapsed_sections": [],
      "include_colab_link": true
    },
    "kernelspec": {
      "name": "python3",
      "display_name": "Python 3"
    },
    "accelerator": "GPU"
  },
  "cells": [
    {
      "cell_type": "markdown",
      "metadata": {
        "id": "view-in-github",
        "colab_type": "text"
      },
      "source": [
        "<a href=\"https://colab.research.google.com/github/DinhTienTai/Big-data-resources/blob/master/Thinking_like_a_CS_Chapter_7.ipynb\" target=\"_parent\"><img src=\"https://colab.research.google.com/assets/colab-badge.svg\" alt=\"Open In Colab\"/></a>"
      ]
    },
    {
      "cell_type": "markdown",
      "metadata": {
        "id": "gRNjI5IQav7i",
        "colab_type": "text"
      },
      "source": [
        "**1. Counting digits**"
      ]
    },
    {
      "cell_type": "code",
      "metadata": {
        "id": "SmcjtasizadZ",
        "colab_type": "code",
        "colab": {}
      },
      "source": [
        "# Define a function\n",
        "def num_digits(n):\n",
        "  count = 0\n",
        "  while n != 0:\n",
        "    count = count + 1\n",
        "    n = n // 10\n",
        "  return count     "
      ],
      "execution_count": 0,
      "outputs": []
    },
    {
      "cell_type": "code",
      "metadata": {
        "id": "tg8M5HambxVS",
        "colab_type": "code",
        "colab": {}
      },
      "source": [
        "# Test function\n",
        "\n",
        "print(num_digits(710))\n",
        "\n",
        "print(num_digits(7100))"
      ],
      "execution_count": 0,
      "outputs": []
    },
    {
      "cell_type": "markdown",
      "metadata": {
        "id": "3CS3JmGWcMnX",
        "colab_type": "text"
      },
      "source": [
        "**2. Count digits that are either 0 or 5**"
      ]
    },
    {
      "cell_type": "code",
      "metadata": {
        "id": "mXWsoR_PcATU",
        "colab_type": "code",
        "colab": {}
      },
      "source": [
        "def digits_0_and_5(n):\n",
        "  count = 0\n",
        "  while n > 0 :\n",
        "    digit = n % 10\n",
        "    if digit == 0 or digit == 5:\n",
        "      count = count + 1\n",
        "    n = n // 10\n",
        "  return(count)\n",
        "\n"
      ],
      "execution_count": 0,
      "outputs": []
    },
    {
      "cell_type": "code",
      "metadata": {
        "id": "-2uUwc4hfxa0",
        "colab_type": "code",
        "colab": {}
      },
      "source": [
        "# Testing \n",
        "print(digits_0_and_5(1005500)) # Ok  \n",
        "print(digits_0_and_5(1)) # Ok"
      ],
      "execution_count": 0,
      "outputs": []
    },
    {
      "cell_type": "markdown",
      "metadata": {
        "id": "RZ2DnuuQsWpo",
        "colab_type": "text"
      },
      "source": [
        " **3. Tab character**"
      ]
    },
    {
      "cell_type": "code",
      "metadata": {
        "id": "kHwWmdgSlS68",
        "colab_type": "code",
        "outputId": "0d475717-a2ee-4dfd-ecf4-0f6160905301",
        "colab": {
          "base_uri": "https://localhost:8080/",
          "height": 254
        }
      },
      "source": [
        "for i in range(13): # sequence from 0 to 12\n",
        "  print(i, \"\\t\", i**2)\n",
        "  "
      ],
      "execution_count": 0,
      "outputs": [
        {
          "output_type": "stream",
          "text": [
            "0 \t 0\n",
            "1 \t 1\n",
            "2 \t 4\n",
            "3 \t 9\n",
            "4 \t 16\n",
            "5 \t 25\n",
            "6 \t 36\n",
            "7 \t 49\n",
            "8 \t 64\n",
            "9 \t 81\n",
            "10 \t 100\n",
            "11 \t 121\n",
            "12 \t 144\n"
          ],
          "name": "stdout"
        }
      ]
    },
    {
      "cell_type": "code",
      "metadata": {
        "id": "wNgA1BzZtBda",
        "colab_type": "code",
        "outputId": "fa491a1f-f673-4bff-969e-bbc6268733b5",
        "colab": {
          "base_uri": "https://localhost:8080/",
          "height": 35
        }
      },
      "source": [
        "for i in range(1,7):\n",
        "  print(2*i, end = \" \" ) # Display as a row\n",
        "print() # Finish the current line and then start the newline"
      ],
      "execution_count": 0,
      "outputs": [
        {
          "output_type": "stream",
          "text": [
            "2 4 6 8 10 12 \n"
          ],
          "name": "stdout"
        }
      ]
    },
    {
      "cell_type": "code",
      "metadata": {
        "id": "E7wni2h7uMGB",
        "colab_type": "code",
        "outputId": "74db14d0-1f2a-4449-e3a4-64e26c2c250c",
        "colab": {
          "base_uri": "https://localhost:8080/",
          "height": 126
        }
      },
      "source": [
        "for i in range(1,7):\n",
        "  print(2*i ) # Display as a column"
      ],
      "execution_count": 0,
      "outputs": [
        {
          "output_type": "stream",
          "text": [
            "2\n",
            "4\n",
            "6\n",
            "8\n",
            "10\n",
            "12\n"
          ],
          "name": "stdout"
        }
      ]
    },
    {
      "cell_type": "markdown",
      "metadata": {
        "id": "7py_0mu5wxUF",
        "colab_type": "text"
      },
      "source": [
        "**4. Encapsulation and visualization**"
      ]
    },
    {
      "cell_type": "code",
      "metadata": {
        "id": "oXPCwOEjwmc9",
        "colab_type": "code",
        "colab": {}
      },
      "source": [
        "def print_multiples(n):\n",
        "    for i in range(1,7):\n",
        "      print(n*i, end = \"  \")\n",
        "    print()"
      ],
      "execution_count": 0,
      "outputs": []
    },
    {
      "cell_type": "code",
      "metadata": {
        "id": "qvNILJDC2ypY",
        "colab_type": "code",
        "outputId": "d069551e-ca8d-4a5f-b27e-5721cf06ed85",
        "colab": {
          "base_uri": "https://localhost:8080/",
          "height": 145
        }
      },
      "source": [
        "# Testing \n",
        "print_multiples(3)\n",
        "\n",
        "# Making a multiplication table\n",
        "for i in range(1, 7):\n",
        "  print_multiples(i)"
      ],
      "execution_count": 0,
      "outputs": [
        {
          "output_type": "stream",
          "text": [
            "3  6  9  12  15  18  \n",
            "1  2  3  4  5  6  \n",
            "2  4  6  8  10  12  \n",
            "3  6  9  12  15  18  \n",
            "4  8  12  16  20  24  \n",
            "5  10  15  20  25  30  \n",
            "6  12  18  24  30  36  \n"
          ],
          "name": "stdout"
        }
      ]
    },
    {
      "cell_type": "code",
      "metadata": {
        "id": "m0nYaMhp21n_",
        "colab_type": "code",
        "outputId": "c5d247c3-2e8c-4932-d22b-0ba097d6d2cc",
        "colab": {
          "base_uri": "https://localhost:8080/",
          "height": 126
        }
      },
      "source": [
        "# More for encapsulation\n",
        "def print_multi_table(): # No argument here\n",
        "  for i in range(1, 7):\n",
        "     print_multiples(i)\n",
        "      \n",
        "print_multi_table()"
      ],
      "execution_count": 0,
      "outputs": [
        {
          "output_type": "stream",
          "text": [
            "1  2  3  4  5  6  \n",
            "2  4  6  8  10  12  \n",
            "3  6  9  12  15  18  \n",
            "4  8  12  16  20  24  \n",
            "5  10  15  20  25  30  \n",
            "6  12  18  24  30  36  \n"
          ],
          "name": "stdout"
        }
      ]
    },
    {
      "cell_type": "markdown",
      "metadata": {
        "id": "JfeLNGyiUUp1",
        "colab_type": "text"
      },
      "source": [
        "**5. The break statement**"
      ]
    },
    {
      "cell_type": "code",
      "metadata": {
        "id": "r20nozH_UmEw",
        "colab_type": "code",
        "outputId": "767698f0-3979-4cf5-a7ff-deee5e442f92",
        "colab": {
          "base_uri": "https://localhost:8080/",
          "height": 72
        }
      },
      "source": [
        "# The break statement is used to immediately leave the BODY of its loop.\n",
        "# The next statement to be executed is the first one AFTER THE BODY:\n",
        "\n",
        "for i in [12, 16, 17, 24, 29]:\n",
        "  if i % 2 == 1: # i is odd number\n",
        "    break  # exit the loop body immediately when i is odd.\n",
        "  print(i)\n",
        "print(\"Done\") # here is the next statement after the loop body"
      ],
      "execution_count": 0,
      "outputs": [
        {
          "output_type": "stream",
          "text": [
            "12\n",
            "16\n",
            "Done\n"
          ],
          "name": "stdout"
        }
      ]
    },
    {
      "cell_type": "markdown",
      "metadata": {
        "id": "knPT1buGWXIp",
        "colab_type": "text"
      },
      "source": [
        "\n",
        "\n",
        "---\n",
        "\n",
        "\n",
        "*For* and *while* loops do their tests at the start, before executing any part of the body. They’re called pre-test loops, because the test happens before (pre) the body. break and return are our tools for adapting this standard behaviour.\n",
        "\n",
        "---\n",
        "\n"
      ]
    },
    {
      "cell_type": "markdown",
      "metadata": {
        "id": "_0V3urqUW7I1",
        "colab_type": "text"
      },
      "source": [
        "**6. Other flavours of loops**\n",
        "\n",
        "Python just uses a combination of ***while***  and ***if condition: break***  to get the job done."
      ]
    },
    {
      "cell_type": "code",
      "metadata": {
        "id": "WiFJj5JJWp1G",
        "colab_type": "code",
        "outputId": "da44e6f3-fe79-446e-8ad5-a79f5abdc360",
        "colab": {
          "base_uri": "https://localhost:8080/",
          "height": 90
        }
      },
      "source": [
        "total = 0\n",
        "while True:\n",
        "  response = input(\"Enter the next number. (Leave blank to end)\")\n",
        "  if response == \"\":\n",
        "    break\n",
        "  total += int(response)\n",
        "print(\"The total of the numbers you enter is\", total)"
      ],
      "execution_count": 0,
      "outputs": [
        {
          "output_type": "stream",
          "text": [
            "Enter the next number. (Leave blank to end)7\n",
            "Enter the next number. (Leave blank to end)8\n",
            "Enter the next number. (Leave blank to end)\n",
            "The total of the numbers you enter is 15\n"
          ],
          "name": "stdout"
        }
      ]
    },
    {
      "cell_type": "code",
      "metadata": {
        "id": "xAwbjJN6bRKP",
        "colab_type": "code",
        "colab": {}
      },
      "source": [
        "# Other examples\n",
        "while True:\n",
        "  play_the_game_once()\n",
        "  response = input(\"Play again ? (Yes or No)\")\n",
        "  if response != \"Yes\":\n",
        "    break\n",
        "print(\"Good bye !\")"
      ],
      "execution_count": 0,
      "outputs": []
    },
    {
      "cell_type": "markdown",
      "metadata": {
        "id": "BlukO--1iNs8",
        "colab_type": "text"
      },
      "source": [
        "**7. Some example**"
      ]
    },
    {
      "cell_type": "code",
      "metadata": {
        "id": "V4pw1UafiShC",
        "colab_type": "code",
        "colab": {}
      },
      "source": [
        "import random                   # We cover random numbers in the\n",
        "rng = random.Random()           # Create a random function\n",
        "number = rng.randrange(1, 1000) # Get random number between [1 and 1000);  >=1 and < 1000\n",
        "\n",
        "guesses = 0\n",
        "msg = \"\"\n",
        "\n",
        "while True:\n",
        "  guess =  int(input(msg + \"\\nGuess any number between 1 and 1000: \"))\n",
        "  guesses += 1\n",
        "  if guess > number:\n",
        "      msg += str(guess) + \"is too high.\\n\"\n",
        "  elif guess < number:\n",
        "      msg += str(guess) + \"is too low.\\n\"\n",
        "  else:\n",
        "      break\n",
        "input(\"\\n\\nGreat, you got it in {0} guesses !\\n\\n\". format(guesses))\n",
        "\n",
        "#  Ok\n"
      ],
      "execution_count": 0,
      "outputs": []
    }
  ]
}